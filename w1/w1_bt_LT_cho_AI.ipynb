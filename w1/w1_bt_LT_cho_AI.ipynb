{
  "cells": [
    {
      "cell_type": "code",
      "execution_count": null,
      "metadata": {
        "id": "q8uPAZ8J4evK"
      },
      "outputs": [],
      "source": [
        "def lai_suat(goc,lai_xuat,so_nam):\n",
        "    sau_lai=goc*(1+5.1/100)**so_nam\n",
        "    return sau_lai\n"
      ]
    },
    {
      "cell_type": "code",
      "execution_count": null,
      "metadata": {
        "id": "0TXT1jfm4evL",
        "outputId": "9a036bf8-829a-4b80-c600-d5274add7dbf"
      },
      "outputs": [
        {
          "name": "stdout",
          "output_type": "stream",
          "text": [
            "Sau 10 năm có 16.44474563565989\n"
          ]
        }
      ],
      "source": [
        "print(\"Sau 10 năm có\" ,lai_suat(10,5.1,10))\n"
      ]
    },
    {
      "cell_type": "code",
      "execution_count": null,
      "metadata": {
        "id": "HnhK9bH84evN",
        "outputId": "b3bbf39a-b43a-4d42-f360-a5a9509dfb5d"
      },
      "outputs": [
        {
          "name": "stdout",
          "output_type": "stream",
          "text": [
            "sau 33 năm sẽ có 50 triệu\n"
          ]
        }
      ],
      "source": [
        "i=0\n",
        "while(lai_suat(10,5.1,i)<50):\n",
        "    i+=1\n",
        "print(\"sau %d năm sẽ có 50 triệu\"%i)\n"
      ]
    },
    {
      "cell_type": "markdown",
      "metadata": {
        "id": "jonceC8M4evN"
      },
      "source": [
        "Bài3"
      ]
    },
    {
      "cell_type": "code",
      "execution_count": null,
      "metadata": {
        "id": "l37CI0oP4evP",
        "outputId": "3cf945b0-af73-4546-d34d-f1333d09f65a"
      },
      "outputs": [
        {
          "name": "stdout",
          "output_type": "stream",
          "text": [
            "0b1111011\n",
            "0o173\n",
            "0x7b\n"
          ]
        }
      ],
      "source": [
        "print(bin(123))\n",
        "print(oct(123))\n",
        "print(hex(123))"
      ]
    },
    {
      "cell_type": "markdown",
      "metadata": {
        "id": "AttvbL8F4evP"
      },
      "source": [
        "Bài 4"
      ]
    },
    {
      "cell_type": "code",
      "execution_count": null,
      "metadata": {
        "id": "C6MvC3Ul4evP",
        "outputId": "df441ee4-93d6-4cdf-d108-06c33470590f"
      },
      "outputs": [
        {
          "name": "stdout",
          "output_type": "stream",
          "text": [
            "1.7099759466766968\n"
          ]
        }
      ],
      "source": [
        "a=int(input())\n",
        "b=int(input())\n",
        "print(a**(1/b))"
      ]
    },
    {
      "cell_type": "markdown",
      "metadata": {
        "id": "jPzThk0e4evP"
      },
      "source": [
        "Hàm"
      ]
    },
    {
      "cell_type": "code",
      "execution_count": null,
      "metadata": {
        "id": "ineqFkmZ4evP",
        "outputId": "56962fc5-92ef-4c1e-81fb-f60936520212"
      },
      "outputs": [
        {
          "name": "stdout",
          "output_type": "stream",
          "text": [
            "3.0\n"
          ]
        }
      ],
      "source": [
        "def average(a,b,c,d,e):\n",
        "    return (a+b+c+d+e)/5\n",
        "print(average(1,2,3,4,5))"
      ]
    },
    {
      "cell_type": "code",
      "execution_count": null,
      "metadata": {
        "id": "5O38nVEK4evQ",
        "outputId": "36bac3ea-8e55-44d3-c1e2-3eec0b048ac4"
      },
      "outputs": [
        {
          "name": "stdout",
          "output_type": "stream",
          "text": [
            "6.0\n"
          ]
        }
      ],
      "source": [
        "def area(a,b,c):\n",
        "    p=(a+b+c)/2\n",
        "    s=(p*(p-a)*(p-b)*(p-c))**(1/2)\n",
        "    return s\n",
        "print(area(3,4,5))"
      ]
    },
    {
      "cell_type": "code",
      "execution_count": null,
      "metadata": {
        "id": "xhvbbt7a4evQ"
      },
      "outputs": [],
      "source": [
        "import numpy as np"
      ]
    },
    {
      "cell_type": "code",
      "execution_count": null,
      "metadata": {
        "id": "w7eO713x4evR",
        "outputId": "d4e05cb2-a5cc-40ff-f575-feab73032659"
      },
      "outputs": [
        {
          "name": "stdout",
          "output_type": "stream",
          "text": [
            "7.176350047203662\n"
          ]
        }
      ],
      "source": [
        "def area2(a,b,c):\n",
        "    AB=(np.abs(a[0]-b[0])+np.abs((a[1]-b[1])))**(1/2)\n",
        "    BC=(np.abs(b[0]-c[0])+np.abs((b[1]-c[1])))**(1/2)\n",
        "    AC=(np.abs(a[0]-c[0])+np.abs((a[1]-c[1])))**(1/2)\n",
        "    return(area(AB,BC,AC))\n",
        "\n",
        "a=[1,2]\n",
        "b=[10,14]\n",
        "c=[5,20]\n",
        "print(area2(a,b,c))"
      ]
    },
    {
      "cell_type": "code",
      "execution_count": null,
      "metadata": {
        "id": "ggEPBWtW4evS",
        "outputId": "e6b78b84-31ed-4c1a-8fbc-f0972ad2f232"
      },
      "outputs": [
        {
          "name": "stdout",
          "output_type": "stream",
          "text": [
            "6\n"
          ]
        }
      ],
      "source": [
        "def total(N):\n",
        "    N=str(N)\n",
        "    total=0\n",
        "    for i in N:\n",
        "        total+=int(i)\n",
        "    return total\n",
        "print(total(123))"
      ]
    },
    {
      "cell_type": "code",
      "execution_count": null,
      "metadata": {
        "id": "VXNa9Asx4evS",
        "outputId": "2d5ee98f-097c-4bb3-ef0f-00674351fc27"
      },
      "outputs": [
        {
          "name": "stdout",
          "output_type": "stream",
          "text": [
            "True\n"
          ]
        }
      ],
      "source": [
        "def is_Fibo(n):\n",
        "    if n < 0:\n",
        "        return False\n",
        "    elif n == 0 or n == 1:\n",
        "        return True\n",
        "    else:\n",
        "        a, b = 0, 1\n",
        "        while b < n:\n",
        "            a, b = b, a + b\n",
        "        if b==n:\n",
        "            return True\n",
        "        else:return False\n",
        "\n",
        "number = int(input(\"Nhập số cần kiểm tra: \"))\n",
        "print(is_Fibo(number))\n"
      ]
    },
    {
      "cell_type": "code",
      "execution_count": null,
      "metadata": {
        "id": "eoF7bjj94evT",
        "outputId": "d779d0c1-b100-4f3b-a3df-e9ff200bb05d"
      },
      "outputs": [
        {
          "name": "stdout",
          "output_type": "stream",
          "text": [
            "34\n"
          ]
        }
      ],
      "source": [
        "def giaithua(i):\n",
        "    if i==0:\n",
        "        return 1\n",
        "    else: return i*giaithua(i-1)\n",
        "def F(N):\n",
        "    total=0\n",
        "    for i in range(N):\n",
        "        total =total+ giaithua(i)\n",
        "    return total\n",
        "print(F(5))\n"
      ]
    },
    {
      "cell_type": "code",
      "execution_count": null,
      "metadata": {
        "id": "Xon7CFgv4evT",
        "outputId": "0763ce9b-718f-4279-cd4d-9212e695217c"
      },
      "outputs": [
        {
          "name": "stdout",
          "output_type": "stream",
          "text": [
            "gioi\n"
          ]
        }
      ],
      "source": [
        "score=float(input())\n",
        "def result(score):\n",
        "    if score<3.5:\n",
        "        return print (\"yếu\")\n",
        "    if score>=3.5 and score<5:return 'kem'\n",
        "    if score>=5 and score<6.5:return 'trung binh'\n",
        "    if score>= 6.5 and score<8: return 'kha'\n",
        "    if score >=8 and score<9:return \"gioi\"\n",
        "    if score>=9 :return 'xuat sac'\n",
        "print(result(score))"
      ]
    }
  ],
  "metadata": {
    "kernelspec": {
      "display_name": "Python 3",
      "language": "python",
      "name": "python3"
    },
    "language_info": {
      "codemirror_mode": {
        "name": "ipython",
        "version": 3
      },
      "file_extension": ".py",
      "mimetype": "text/x-python",
      "name": "python",
      "nbconvert_exporter": "python",
      "pygments_lexer": "ipython3",
      "version": "3.12.1"
    },
    "colab": {
      "provenance": []
    }
  },
  "nbformat": 4,
  "nbformat_minor": 0
}