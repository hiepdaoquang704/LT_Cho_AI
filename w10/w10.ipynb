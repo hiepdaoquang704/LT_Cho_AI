{
 "cells": [
  {
   "cell_type": "code",
   "execution_count": 3,
   "metadata": {},
   "outputs": [],
   "source": [
    "import pandas as pd \n",
    "import matplotlib.pyplot as plt"
   ]
  },
  {
   "cell_type": "code",
   "execution_count": 4,
   "metadata": {},
   "outputs": [],
   "source": [
    "data=pd.read_csv('https://raw.githubusercontent.com/thieu1995/csv-files/main/data/timeseries/univariate/acea-water-prediction/River_Arno.csv')\n"
   ]
  },
  {
   "cell_type": "code",
   "execution_count": 5,
   "metadata": {},
   "outputs": [],
   "source": [
    "data=data.loc[:,['Date','Hydrometry_Nave_di_Rosano']]"
   ]
  },
  {
   "cell_type": "code",
   "execution_count": 6,
   "metadata": {},
   "outputs": [
    {
     "data": {
      "text/html": [
       "<div>\n",
       "<style scoped>\n",
       "    .dataframe tbody tr th:only-of-type {\n",
       "        vertical-align: middle;\n",
       "    }\n",
       "\n",
       "    .dataframe tbody tr th {\n",
       "        vertical-align: top;\n",
       "    }\n",
       "\n",
       "    .dataframe thead th {\n",
       "        text-align: right;\n",
       "    }\n",
       "</style>\n",
       "<table border=\"1\" class=\"dataframe\">\n",
       "  <thead>\n",
       "    <tr style=\"text-align: right;\">\n",
       "      <th></th>\n",
       "      <th>Date</th>\n",
       "      <th>Hydrometry_Nave_di_Rosano</th>\n",
       "    </tr>\n",
       "  </thead>\n",
       "  <tbody>\n",
       "    <tr>\n",
       "      <th>0</th>\n",
       "      <td>01/01/1998</td>\n",
       "      <td>1.82</td>\n",
       "    </tr>\n",
       "    <tr>\n",
       "      <th>1</th>\n",
       "      <td>02/01/1998</td>\n",
       "      <td>1.94</td>\n",
       "    </tr>\n",
       "    <tr>\n",
       "      <th>2</th>\n",
       "      <td>03/01/1998</td>\n",
       "      <td>2.11</td>\n",
       "    </tr>\n",
       "    <tr>\n",
       "      <th>3</th>\n",
       "      <td>04/01/1998</td>\n",
       "      <td>1.84</td>\n",
       "    </tr>\n",
       "    <tr>\n",
       "      <th>4</th>\n",
       "      <td>05/01/1998</td>\n",
       "      <td>1.88</td>\n",
       "    </tr>\n",
       "    <tr>\n",
       "      <th>...</th>\n",
       "      <td>...</td>\n",
       "      <td>...</td>\n",
       "    </tr>\n",
       "    <tr>\n",
       "      <th>8212</th>\n",
       "      <td>26/06/2020</td>\n",
       "      <td>1.34</td>\n",
       "    </tr>\n",
       "    <tr>\n",
       "      <th>8213</th>\n",
       "      <td>27/06/2020</td>\n",
       "      <td>1.21</td>\n",
       "    </tr>\n",
       "    <tr>\n",
       "      <th>8214</th>\n",
       "      <td>28/06/2020</td>\n",
       "      <td>1.30</td>\n",
       "    </tr>\n",
       "    <tr>\n",
       "      <th>8215</th>\n",
       "      <td>29/06/2020</td>\n",
       "      <td>1.19</td>\n",
       "    </tr>\n",
       "    <tr>\n",
       "      <th>8216</th>\n",
       "      <td>30/06/2020</td>\n",
       "      <td>1.30</td>\n",
       "    </tr>\n",
       "  </tbody>\n",
       "</table>\n",
       "<p>8217 rows × 2 columns</p>\n",
       "</div>"
      ],
      "text/plain": [
       "            Date  Hydrometry_Nave_di_Rosano\n",
       "0     01/01/1998                       1.82\n",
       "1     02/01/1998                       1.94\n",
       "2     03/01/1998                       2.11\n",
       "3     04/01/1998                       1.84\n",
       "4     05/01/1998                       1.88\n",
       "...          ...                        ...\n",
       "8212  26/06/2020                       1.34\n",
       "8213  27/06/2020                       1.21\n",
       "8214  28/06/2020                       1.30\n",
       "8215  29/06/2020                       1.19\n",
       "8216  30/06/2020                       1.30\n",
       "\n",
       "[8217 rows x 2 columns]"
      ]
     },
     "execution_count": 6,
     "metadata": {},
     "output_type": "execute_result"
    }
   ],
   "source": [
    "data"
   ]
  },
  {
   "cell_type": "code",
   "execution_count": 7,
   "metadata": {},
   "outputs": [
    {
     "data": {
      "text/plain": [
       "Index(['Date', 'Hydrometry_Nave_di_Rosano'], dtype='object')"
      ]
     },
     "execution_count": 7,
     "metadata": {},
     "output_type": "execute_result"
    }
   ],
   "source": [
    "data.columns"
   ]
  },
  {
   "cell_type": "code",
   "execution_count": 8,
   "metadata": {},
   "outputs": [],
   "source": [
    "data['Date'] = pd.to_datetime(data['Date'],dayfirst=True)\n"
   ]
  },
  {
   "cell_type": "code",
   "execution_count": 9,
   "metadata": {},
   "outputs": [
    {
     "data": {
      "text/html": [
       "<div>\n",
       "<style scoped>\n",
       "    .dataframe tbody tr th:only-of-type {\n",
       "        vertical-align: middle;\n",
       "    }\n",
       "\n",
       "    .dataframe tbody tr th {\n",
       "        vertical-align: top;\n",
       "    }\n",
       "\n",
       "    .dataframe thead th {\n",
       "        text-align: right;\n",
       "    }\n",
       "</style>\n",
       "<table border=\"1\" class=\"dataframe\">\n",
       "  <thead>\n",
       "    <tr style=\"text-align: right;\">\n",
       "      <th></th>\n",
       "      <th>Date</th>\n",
       "      <th>Hydrometry_Nave_di_Rosano</th>\n",
       "    </tr>\n",
       "  </thead>\n",
       "  <tbody>\n",
       "    <tr>\n",
       "      <th>0</th>\n",
       "      <td>1998-01-01</td>\n",
       "      <td>1.82</td>\n",
       "    </tr>\n",
       "    <tr>\n",
       "      <th>1</th>\n",
       "      <td>1998-01-02</td>\n",
       "      <td>1.94</td>\n",
       "    </tr>\n",
       "    <tr>\n",
       "      <th>2</th>\n",
       "      <td>1998-01-03</td>\n",
       "      <td>2.11</td>\n",
       "    </tr>\n",
       "    <tr>\n",
       "      <th>3</th>\n",
       "      <td>1998-01-04</td>\n",
       "      <td>1.84</td>\n",
       "    </tr>\n",
       "    <tr>\n",
       "      <th>4</th>\n",
       "      <td>1998-01-05</td>\n",
       "      <td>1.88</td>\n",
       "    </tr>\n",
       "    <tr>\n",
       "      <th>...</th>\n",
       "      <td>...</td>\n",
       "      <td>...</td>\n",
       "    </tr>\n",
       "    <tr>\n",
       "      <th>8212</th>\n",
       "      <td>2020-06-26</td>\n",
       "      <td>1.34</td>\n",
       "    </tr>\n",
       "    <tr>\n",
       "      <th>8213</th>\n",
       "      <td>2020-06-27</td>\n",
       "      <td>1.21</td>\n",
       "    </tr>\n",
       "    <tr>\n",
       "      <th>8214</th>\n",
       "      <td>2020-06-28</td>\n",
       "      <td>1.30</td>\n",
       "    </tr>\n",
       "    <tr>\n",
       "      <th>8215</th>\n",
       "      <td>2020-06-29</td>\n",
       "      <td>1.19</td>\n",
       "    </tr>\n",
       "    <tr>\n",
       "      <th>8216</th>\n",
       "      <td>2020-06-30</td>\n",
       "      <td>1.30</td>\n",
       "    </tr>\n",
       "  </tbody>\n",
       "</table>\n",
       "<p>8217 rows × 2 columns</p>\n",
       "</div>"
      ],
      "text/plain": [
       "           Date  Hydrometry_Nave_di_Rosano\n",
       "0    1998-01-01                       1.82\n",
       "1    1998-01-02                       1.94\n",
       "2    1998-01-03                       2.11\n",
       "3    1998-01-04                       1.84\n",
       "4    1998-01-05                       1.88\n",
       "...         ...                        ...\n",
       "8212 2020-06-26                       1.34\n",
       "8213 2020-06-27                       1.21\n",
       "8214 2020-06-28                       1.30\n",
       "8215 2020-06-29                       1.19\n",
       "8216 2020-06-30                       1.30\n",
       "\n",
       "[8217 rows x 2 columns]"
      ]
     },
     "execution_count": 9,
     "metadata": {},
     "output_type": "execute_result"
    }
   ],
   "source": [
    "data"
   ]
  },
  {
   "cell_type": "code",
   "execution_count": 10,
   "metadata": {},
   "outputs": [
    {
     "data": {
      "image/png": "[encoded data removed]",
      "text/plain": [
       "<Figure size 1500x400 with 1 Axes>"
      ]
     },
     "metadata": {},
     "output_type": "display_data"
    }
   ],
   "source": [
    "def plot_df(df, x, y, title=\"\", xlabel='Date', ylabel='Hydrometry_Nave_di_Rosano', dpi=100, color=\"blue\"):\n",
    "    plt.figure(figsize=(15,4), dpi=dpi)\n",
    "    plt.plot(x, y, color=color)\n",
    "    plt.gca().set(title=title, xlabel=xlabel, ylabel=ylabel)\n",
    "    plt.show()\n",
    "\n",
    "plot_df(data, x=data['Date'], y=data['Hydrometry_Nave_di_Rosano'], title='Hydrometry NavediRosano from 01/01/1998 to 30/06/2020')"
   ]
  },
  {
   "cell_type": "code",
   "execution_count": 11,
   "metadata": {},
   "outputs": [],
   "source": [
    "# data['year'] = data.Date.dt.year\n",
    "# data['month'] = data.Date.dt.month\n",
    "# data['day'] = data.Date.dt.day"
   ]
  },
  {
   "cell_type": "code",
   "execution_count": 25,
   "metadata": {},
   "outputs": [
    {
     "data": {
      "text/html": [
       "<div>\n",
       "<style scoped>\n",
       "    .dataframe tbody tr th:only-of-type {\n",
       "        vertical-align: middle;\n",
       "    }\n",
       "\n",
       "    .dataframe tbody tr th {\n",
       "        vertical-align: top;\n",
       "    }\n",
       "\n",
       "    .dataframe thead th {\n",
       "        text-align: right;\n",
       "    }\n",
       "</style>\n",
       "<table border=\"1\" class=\"dataframe\">\n",
       "  <thead>\n",
       "    <tr style=\"text-align: right;\">\n",
       "      <th></th>\n",
       "      <th>Hydrometry_Nave_di_Rosano</th>\n",
       "    </tr>\n",
       "    <tr>\n",
       "      <th>Date</th>\n",
       "      <th></th>\n",
       "    </tr>\n",
       "  </thead>\n",
       "  <tbody>\n",
       "    <tr>\n",
       "      <th>1998-01-01</th>\n",
       "      <td>1.82</td>\n",
       "    </tr>\n",
       "    <tr>\n",
       "      <th>1998-01-02</th>\n",
       "      <td>1.94</td>\n",
       "    </tr>\n",
       "    <tr>\n",
       "      <th>1998-01-03</th>\n",
       "      <td>2.11</td>\n",
       "    </tr>\n",
       "    <tr>\n",
       "      <th>1998-01-04</th>\n",
       "      <td>1.84</td>\n",
       "    </tr>\n",
       "    <tr>\n",
       "      <th>1998-01-05</th>\n",
       "      <td>1.88</td>\n",
       "    </tr>\n",
       "    <tr>\n",
       "      <th>...</th>\n",
       "      <td>...</td>\n",
       "    </tr>\n",
       "    <tr>\n",
       "      <th>2020-06-26</th>\n",
       "      <td>1.34</td>\n",
       "    </tr>\n",
       "    <tr>\n",
       "      <th>2020-06-27</th>\n",
       "      <td>1.21</td>\n",
       "    </tr>\n",
       "    <tr>\n",
       "      <th>2020-06-28</th>\n",
       "      <td>1.30</td>\n",
       "    </tr>\n",
       "    <tr>\n",
       "      <th>2020-06-29</th>\n",
       "      <td>1.19</td>\n",
       "    </tr>\n",
       "    <tr>\n",
       "      <th>2020-06-30</th>\n",
       "      <td>1.30</td>\n",
       "    </tr>\n",
       "  </tbody>\n",
       "</table>\n",
       "<p>8169 rows × 1 columns</p>\n",
       "</div>"
      ],
      "text/plain": [
       "            Hydrometry_Nave_di_Rosano\n",
       "Date                                 \n",
       "1998-01-01                       1.82\n",
       "1998-01-02                       1.94\n",
       "1998-01-03                       2.11\n",
       "1998-01-04                       1.84\n",
       "1998-01-05                       1.88\n",
       "...                               ...\n",
       "2020-06-26                       1.34\n",
       "2020-06-27                       1.21\n",
       "2020-06-28                       1.30\n",
       "2020-06-29                       1.19\n",
       "2020-06-30                       1.30\n",
       "\n",
       "[8169 rows x 1 columns]"
      ]
     },
     "execution_count": 25,
     "metadata": {},
     "output_type": "execute_result"
    }
   ],
   "source": [
    "data"
   ]
  },
  {
   "cell_type": "code",
   "execution_count": 26,
   "metadata": {},
   "outputs": [],
   "source": [
    "import pandas as pd\n",
    "import numpy as np\n",
    "import statsmodels.api as sm\n",
    "from statsmodels.tsa.arima.model import ARIMA\n",
    "from sklearn.metrics import mean_squared_error\n",
    "import warnings\n",
    "warnings.filterwarnings(\"ignore\")\n"
   ]
  },
  {
   "cell_type": "code",
   "execution_count": 28,
   "metadata": {},
   "outputs": [],
   "source": [
    "data.dropna(inplace=True)\n"
   ]
  },
  {
   "cell_type": "code",
   "execution_count": 29,
   "metadata": {},
   "outputs": [
    {
     "data": {
      "text/html": [
       "<div>\n",
       "<style scoped>\n",
       "    .dataframe tbody tr th:only-of-type {\n",
       "        vertical-align: middle;\n",
       "    }\n",
       "\n",
       "    .dataframe tbody tr th {\n",
       "        vertical-align: top;\n",
       "    }\n",
       "\n",
       "    .dataframe thead th {\n",
       "        text-align: right;\n",
       "    }\n",
       "</style>\n",
       "<table border=\"1\" class=\"dataframe\">\n",
       "  <thead>\n",
       "    <tr style=\"text-align: right;\">\n",
       "      <th></th>\n",
       "      <th>Hydrometry_Nave_di_Rosano</th>\n",
       "    </tr>\n",
       "    <tr>\n",
       "      <th>Date</th>\n",
       "      <th></th>\n",
       "    </tr>\n",
       "  </thead>\n",
       "  <tbody>\n",
       "    <tr>\n",
       "      <th>1998-01-01</th>\n",
       "      <td>1.82</td>\n",
       "    </tr>\n",
       "    <tr>\n",
       "      <th>1998-01-02</th>\n",
       "      <td>1.94</td>\n",
       "    </tr>\n",
       "    <tr>\n",
       "      <th>1998-01-03</th>\n",
       "      <td>2.11</td>\n",
       "    </tr>\n",
       "    <tr>\n",
       "      <th>1998-01-04</th>\n",
       "      <td>1.84</td>\n",
       "    </tr>\n",
       "    <tr>\n",
       "      <th>1998-01-05</th>\n",
       "      <td>1.88</td>\n",
       "    </tr>\n",
       "    <tr>\n",
       "      <th>...</th>\n",
       "      <td>...</td>\n",
       "    </tr>\n",
       "    <tr>\n",
       "      <th>2020-06-26</th>\n",
       "      <td>1.34</td>\n",
       "    </tr>\n",
       "    <tr>\n",
       "      <th>2020-06-27</th>\n",
       "      <td>1.21</td>\n",
       "    </tr>\n",
       "    <tr>\n",
       "      <th>2020-06-28</th>\n",
       "      <td>1.30</td>\n",
       "    </tr>\n",
       "    <tr>\n",
       "      <th>2020-06-29</th>\n",
       "      <td>1.19</td>\n",
       "    </tr>\n",
       "    <tr>\n",
       "      <th>2020-06-30</th>\n",
       "      <td>1.30</td>\n",
       "    </tr>\n",
       "  </tbody>\n",
       "</table>\n",
       "<p>8169 rows × 1 columns</p>\n",
       "</div>"
      ],
      "text/plain": [
       "            Hydrometry_Nave_di_Rosano\n",
       "Date                                 \n",
       "1998-01-01                       1.82\n",
       "1998-01-02                       1.94\n",
       "1998-01-03                       2.11\n",
       "1998-01-04                       1.84\n",
       "1998-01-05                       1.88\n",
       "...                               ...\n",
       "2020-06-26                       1.34\n",
       "2020-06-27                       1.21\n",
       "2020-06-28                       1.30\n",
       "2020-06-29                       1.19\n",
       "2020-06-30                       1.30\n",
       "\n",
       "[8169 rows x 1 columns]"
      ]
     },
     "execution_count": 29,
     "metadata": {},
     "output_type": "execute_result"
    }
   ],
   "source": [
    "data"
   ]
  },
  {
   "cell_type": "code",
   "execution_count": 20,
   "metadata": {},
   "outputs": [],
   "source": [
    "import numpy as np\n",
    "import pandas as pd\n",
    "import matplotlib.pyplot as plt\n",
    "from statsmodels.tsa.arima.model import ARIMA\n",
    "from statsmodels.tsa.ar_model import AutoReg\n",
    "from statsmodels.tsa.statespace.sarimax import SARIMAX\n",
    "from sklearn.metrics import mean_squared_error\n"
   ]
  },
  {
   "cell_type": "code",
   "execution_count": null,
   "metadata": {},
   "outputs": [],
   "source": [
    "train_data = data.loc[:'2020-05-31']\n",
    "test_data = data.loc['2020-06-01':]\n"
   ]
  },
  {
   "cell_type": "code",
   "execution_count": 31,
   "metadata": {},
   "outputs": [],
   "source": [
    "\n",
    "\n",
    "def optimize_ARIMA(parameters_list):\n",
    "    best_aic = float(\"inf\")\n",
    "    best_params = None\n",
    "    for param in parameters_list:\n",
    "        try:\n",
    "            model = SARIMAX(train_data, order=(param[0], param[1], param[2])).fit(disp=False)\n",
    "        except:\n",
    "            continue\n",
    "        aic = model.aic\n",
    "        if aic < best_aic:\n",
    "            best_aic = aic\n",
    "            best_params = param\n",
    "    return best_params\n",
    "\n",
    "# Tìm kiếm các tham số tốt nhất cho AR, MA, ARMA\n",
    "def optimize_AR(parameters_list):\n",
    "    best_aic = float(\"inf\")\n",
    "    best_lag = None\n",
    "    for lag in parameters_list:\n",
    "        model = AutoReg(train_data, lags=lag).fit()\n",
    "        aic = model.aic\n",
    "        if aic < best_aic:\n",
    "            best_aic = aic\n",
    "            best_lag = lag\n",
    "    return best_lag\n",
    "\n",
    "def optimize_MA(parameters_list):\n",
    "    best_aic = float(\"inf\")\n",
    "    best_lag = None\n",
    "    for lag in parameters_list:\n",
    "        try:\n",
    "            model = SARIMAX(train_data, order=(0, 0, lag)).fit(disp=False)\n",
    "        except:\n",
    "            continue\n",
    "        aic = model.aic\n",
    "        if aic < best_aic:\n",
    "            best_aic = aic\n",
    "            best_lag = lag\n",
    "    return best_lag\n",
    "\n",
    "def optimize_ARMA(parameters_list):\n",
    "    best_aic = float(\"inf\")\n",
    "    best_params = None\n",
    "    for p in parameters_list:\n",
    "        for q in parameters_list:\n",
    "            try:\n",
    "                model = SARIMAX(train_data, order=(p, 0, q)).fit(disp=False)\n",
    "            except:\n",
    "                continue\n",
    "            aic = model.aic\n",
    "            if aic < best_aic:\n",
    "                best_aic = aic\n",
    "                best_params = (p, q)\n",
    "    return best_params\n"
   ]
  },
  {
   "cell_type": "code",
   "execution_count": 32,
   "metadata": {},
   "outputs": [
    {
     "name": "stdout",
     "output_type": "stream",
     "text": [
      "Best ARIMA Parameters: (1, 1, 2)\n",
      "Best AR Lag: 9\n",
      "Best MA Lag: 9\n",
      "Best ARMA Parameters: (2, 2)\n"
     ]
    }
   ],
   "source": [
    "arima_params = [(p, d, q) for p in range(3) for d in range(2) for q in range(3)]\n",
    "arima_best_params = optimize_ARIMA(arima_params)\n",
    "print(\"Best ARIMA Parameters:\", arima_best_params)\n",
    "\n",
    "ar_lags = range(1, 10)\n",
    "ar_best_lag = optimize_AR(ar_lags)\n",
    "print(\"Best AR Lag:\", ar_best_lag)\n",
    "\n",
    "ma_lags = range(1, 10)\n",
    "ma_best_lag = optimize_MA(ma_lags)\n",
    "print(\"Best MA Lag:\", ma_best_lag)\n",
    "\n",
    "arma_params = range(3)\n",
    "arma_best_params = optimize_ARMA(arma_params)\n",
    "print(\"Best ARMA Parameters:\", arma_best_params)\n"
   ]
  },
  {
   "cell_type": "code",
   "execution_count": null,
   "metadata": {},
   "outputs": [],
   "source": [
    "\n",
    "arima_model = SARIMAX(train_data, order=(arima_best_params[0], 1, arima_best_params[1]),\n",
    "                      seasonal_order=(0, 0, 0, 0)).fit(disp=False)\n",
    "ar_model = AutoReg(train_data, lags=ar_best_lag).fit()\n",
    "ma_model = SARIMAX(train_data, order=(0, 0, ma_best_lag)).fit(disp=False)\n",
    "arma_model = SARIMAX(train_data, order=(arma_best_params[0], 0, arma_best_params[1])).fit(disp=False)\n"
   ]
  },
  {
   "cell_type": "code",
   "execution_count": 33,
   "metadata": {},
   "outputs": [],
   "source": [
    "arima_pred = arima_model.forecast(steps=len(test_data))\n",
    "ar_pred = ar_model.predict(start=len(train_data), end=len(train_data) + len(test_data) - 1)\n",
    "ma_pred = ma_model.forecast(steps=len(test_data))\n",
    "arma_pred = arma_model.forecast(steps=len(test_data))"
   ]
  },
  {
   "cell_type": "code",
   "execution_count": 34,
   "metadata": {},
   "outputs": [
    {
     "name": "stdout",
     "output_type": "stream",
     "text": [
      "RMSE for ARIMA: 0.2059920698331465\n",
      "RMSE for AR: 0.22021252437884323\n",
      "RMSE for MA: 1.3898419202371763\n",
      "RMSE for ARMA: 0.2627799172767214\n"
     ]
    }
   ],
   "source": [
    "\n",
    "arima_rmse = np.sqrt(mean_squared_error(test_data, arima_pred))\n",
    "ar_rmse = np.sqrt(mean_squared_error(test_data, ar_pred))\n",
    "ma_rmse = np.sqrt(mean_squared_error(test_data, ma_pred))\n",
    "arma_rmse = np.sqrt(mean_squared_error(test_data, arma_pred))\n",
    "\n",
    "print(\"RMSE for ARIMA:\", arima_rmse)\n",
    "print(\"RMSE for AR:\", ar_rmse)\n",
    "print(\"RMSE for MA:\", ma_rmse)\n",
    "print(\"RMSE for ARMA:\", arma_rmse)\n"
   ]
  },
  {
   "cell_type": "code",
   "execution_count": null,
   "metadata": {},
   "outputs": [],
   "source": []
  }
 ],
 "metadata": {
  "kernelspec": {
   "display_name": "base",
   "language": "python",
   "name": "python3"
  },
  "language_info": {
   "codemirror_mode": {
    "name": "ipython",
    "version": 3
   },
   "file_extension": ".py",
   "mimetype": "text/x-python",
   "name": "python",
   "nbconvert_exporter": "python",
   "pygments_lexer": "ipython3",
   "version": "3.11.7"
  }
 },
 "nbformat": 4,
 "nbformat_minor": 2
}
