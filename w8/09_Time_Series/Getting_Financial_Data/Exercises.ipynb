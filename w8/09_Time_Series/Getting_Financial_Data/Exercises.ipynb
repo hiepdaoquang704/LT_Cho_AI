{
 "cells": [
  {
   "cell_type": "markdown",
   "metadata": {
    "pycharm": {
     "name": "#%% md\n"
    }
   },
   "source": [
    "# Getting Financial Data - Pandas Datareader"
   ]
  },
  {
   "cell_type": "markdown",
   "metadata": {
    "pycharm": {
     "name": "#%% md\n"
    }
   },
   "source": [
    "### Introduction:\n",
    "\n",
    "This time you will get data from a website.\n",
    "\n",
    "\n",
    "### Step 1. Import the necessary libraries"
   ]
  },
  {
   "cell_type": "code",
   "execution_count": 32,
   "metadata": {
    "pycharm": {
     "name": "#%%\n"
    }
   },
   "outputs": [],
   "source": [
    "\n",
    "import numpy as np\n",
    "import pandas as pd\n",
    "\n",
    "import pandas_datareader\n",
    "import pandas_datareader.data as web\n",
    "# package for dates\n",
    "import datetime as dt"
   ]
  },
  {
   "cell_type": "markdown",
   "metadata": {
    "pycharm": {
     "name": "#%% md\n"
    }
   },
   "source": [
    "### Step 2. Create your time range (start and end variables). The start date should be 01/01/2015 and the end should today (whatever your today is)."
   ]
  },
  {
   "cell_type": "code",
   "execution_count": 33,
   "metadata": {
    "pycharm": {
     "name": "#%%\n"
    }
   },
   "outputs": [
    {
     "data": {
      "text/plain": [
       "DatetimeIndex(['2015-01-01', '2015-01-02', '2015-01-05', '2015-01-06',\n",
       "               '2015-01-07', '2015-01-08', '2015-01-09', '2015-01-12',\n",
       "               '2015-01-13', '2015-01-14',\n",
       "               ...\n",
       "               '2024-05-29', '2024-05-30', '2024-05-31', '2024-06-03',\n",
       "               '2024-06-04', '2024-06-05', '2024-06-06', '2024-06-07',\n",
       "               '2024-06-10', '2024-06-11'],\n",
       "              dtype='datetime64[ns]', length=2464, freq='B')"
      ]
     },
     "execution_count": 33,
     "metadata": {},
     "output_type": "execute_result"
    }
   ],
   "source": [
    "\n",
    "start = '2015-01-01'\n",
    "end = pd.Timestamp.today().strftime('%Y-%m-%d')\n",
    "date_range = pd.date_range(start=start, end=end, freq='B')\n",
    "date_range\n"
   ]
  },
  {
   "cell_type": "markdown",
   "metadata": {
    "pycharm": {
     "name": "#%% md\n"
    }
   },
   "source": [
    "### Step 3. Get an API key for one of the APIs that are supported by Pandas Datareader, preferably for AlphaVantage.\n",
    "\n",
    "If you do not have an API key for any of the supported APIs, it is easiest to get one for [AlphaVantage](https://www.alphavantage.co/support/#api-key). (Note that the API key is shown directly after the signup. You do *not* receive it via e-mail.)\n",
    "\n",
    "(For a full list of the APIs that are supported by Pandas Datareader, [see here](https://pydata.github.io/pandas-datareader/readers/index.html). As the APIs are provided by third parties, this list may change.)"
   ]
  },
  {
   "cell_type": "code",
   "execution_count": 34,
   "metadata": {},
   "outputs": [],
   "source": [
    "data = pandas_datareader.av.forex.AVForexReader('FROM/TO',api_key= '789B1EF7B85PGMEY')"
   ]
  },
  {
   "cell_type": "markdown",
   "metadata": {
    "pycharm": {
     "name": "#%% md\n"
    }
   },
   "source": [
    "### Step 4. Use Pandas Datarader to read the daily time series for the Apple stock (ticker symbol AAPL) between 01/01/2015 and today, assign it to df_apple and print it."
   ]
  },
  {
   "cell_type": "code",
   "execution_count": 35,
   "metadata": {},
   "outputs": [
    {
     "name": "stdout",
     "output_type": "stream",
     "text": [
      "               open    high       low   close    volume\n",
      "2015-01-02  111.390  111.44  107.3500  109.33  53204626\n",
      "2015-01-05  108.290  108.65  105.4100  106.25  64285491\n",
      "2015-01-06  106.540  107.43  104.6300  106.26  65797116\n",
      "2015-01-07  107.200  108.20  106.6950  107.75  40105934\n",
      "2015-01-08  109.230  112.15  108.7000  111.89  59364547\n",
      "...             ...     ...       ...     ...       ...\n",
      "2024-06-04  194.635  195.32  193.0342  194.35  47471445\n",
      "2024-06-05  195.400  196.90  194.8700  195.87  54156785\n",
      "2024-06-06  195.685  196.50  194.1700  194.48  41181753\n",
      "2024-06-07  194.650  196.94  194.1400  196.89  53103912\n",
      "2024-06-10  196.900  197.30  192.1500  193.12  97262077\n",
      "\n",
      "[2375 rows x 5 columns]\n"
     ]
    }
   ],
   "source": [
    "start = datetime.datetime(2015, 1, 1)\n",
    "end = datetime.datetime.now()\n",
    "\n",
    "# Fetch Apple stock data from Alpha Vantage\n",
    "df_apple = web.DataReader('AAPL', 'av-daily', start=start, end=end, api_key='789B1EF7B85PGMEY')\n",
    "\n",
    "# Print the DataFrame\n",
    "print(df_apple)"
   ]
  },
  {
   "cell_type": "markdown",
   "metadata": {
    "pycharm": {
     "name": "#%% md\n"
    }
   },
   "source": [
    "### Step 5. Add a new column \"stock\" to the dataframe and add the ticker symbol"
   ]
  },
  {
   "cell_type": "code",
   "execution_count": 36,
   "metadata": {
    "pycharm": {
     "name": "#%%\n"
    }
   },
   "outputs": [],
   "source": [
    "df_apple['stock'] = 'AAPL'\n"
   ]
  },
  {
   "cell_type": "code",
   "execution_count": 37,
   "metadata": {},
   "outputs": [
    {
     "data": {
      "text/html": [
       "<div>\n",
       "<style scoped>\n",
       "    .dataframe tbody tr th:only-of-type {\n",
       "        vertical-align: middle;\n",
       "    }\n",
       "\n",
       "    .dataframe tbody tr th {\n",
       "        vertical-align: top;\n",
       "    }\n",
       "\n",
       "    .dataframe thead th {\n",
       "        text-align: right;\n",
       "    }\n",
       "</style>\n",
       "<table border=\"1\" class=\"dataframe\">\n",
       "  <thead>\n",
       "    <tr style=\"text-align: right;\">\n",
       "      <th></th>\n",
       "      <th>open</th>\n",
       "      <th>high</th>\n",
       "      <th>low</th>\n",
       "      <th>close</th>\n",
       "      <th>volume</th>\n",
       "      <th>stock</th>\n",
       "    </tr>\n",
       "  </thead>\n",
       "  <tbody>\n",
       "    <tr>\n",
       "      <th>2015-01-02</th>\n",
       "      <td>111.390</td>\n",
       "      <td>111.44</td>\n",
       "      <td>107.3500</td>\n",
       "      <td>109.33</td>\n",
       "      <td>53204626</td>\n",
       "      <td>AAPL</td>\n",
       "    </tr>\n",
       "    <tr>\n",
       "      <th>2015-01-05</th>\n",
       "      <td>108.290</td>\n",
       "      <td>108.65</td>\n",
       "      <td>105.4100</td>\n",
       "      <td>106.25</td>\n",
       "      <td>64285491</td>\n",
       "      <td>AAPL</td>\n",
       "    </tr>\n",
       "    <tr>\n",
       "      <th>2015-01-06</th>\n",
       "      <td>106.540</td>\n",
       "      <td>107.43</td>\n",
       "      <td>104.6300</td>\n",
       "      <td>106.26</td>\n",
       "      <td>65797116</td>\n",
       "      <td>AAPL</td>\n",
       "    </tr>\n",
       "    <tr>\n",
       "      <th>2015-01-07</th>\n",
       "      <td>107.200</td>\n",
       "      <td>108.20</td>\n",
       "      <td>106.6950</td>\n",
       "      <td>107.75</td>\n",
       "      <td>40105934</td>\n",
       "      <td>AAPL</td>\n",
       "    </tr>\n",
       "    <tr>\n",
       "      <th>2015-01-08</th>\n",
       "      <td>109.230</td>\n",
       "      <td>112.15</td>\n",
       "      <td>108.7000</td>\n",
       "      <td>111.89</td>\n",
       "      <td>59364547</td>\n",
       "      <td>AAPL</td>\n",
       "    </tr>\n",
       "    <tr>\n",
       "      <th>...</th>\n",
       "      <td>...</td>\n",
       "      <td>...</td>\n",
       "      <td>...</td>\n",
       "      <td>...</td>\n",
       "      <td>...</td>\n",
       "      <td>...</td>\n",
       "    </tr>\n",
       "    <tr>\n",
       "      <th>2024-06-04</th>\n",
       "      <td>194.635</td>\n",
       "      <td>195.32</td>\n",
       "      <td>193.0342</td>\n",
       "      <td>194.35</td>\n",
       "      <td>47471445</td>\n",
       "      <td>AAPL</td>\n",
       "    </tr>\n",
       "    <tr>\n",
       "      <th>2024-06-05</th>\n",
       "      <td>195.400</td>\n",
       "      <td>196.90</td>\n",
       "      <td>194.8700</td>\n",
       "      <td>195.87</td>\n",
       "      <td>54156785</td>\n",
       "      <td>AAPL</td>\n",
       "    </tr>\n",
       "    <tr>\n",
       "      <th>2024-06-06</th>\n",
       "      <td>195.685</td>\n",
       "      <td>196.50</td>\n",
       "      <td>194.1700</td>\n",
       "      <td>194.48</td>\n",
       "      <td>41181753</td>\n",
       "      <td>AAPL</td>\n",
       "    </tr>\n",
       "    <tr>\n",
       "      <th>2024-06-07</th>\n",
       "      <td>194.650</td>\n",
       "      <td>196.94</td>\n",
       "      <td>194.1400</td>\n",
       "      <td>196.89</td>\n",
       "      <td>53103912</td>\n",
       "      <td>AAPL</td>\n",
       "    </tr>\n",
       "    <tr>\n",
       "      <th>2024-06-10</th>\n",
       "      <td>196.900</td>\n",
       "      <td>197.30</td>\n",
       "      <td>192.1500</td>\n",
       "      <td>193.12</td>\n",
       "      <td>97262077</td>\n",
       "      <td>AAPL</td>\n",
       "    </tr>\n",
       "  </tbody>\n",
       "</table>\n",
       "<p>2375 rows × 6 columns</p>\n",
       "</div>"
      ],
      "text/plain": [
       "               open    high       low   close    volume stock\n",
       "2015-01-02  111.390  111.44  107.3500  109.33  53204626  AAPL\n",
       "2015-01-05  108.290  108.65  105.4100  106.25  64285491  AAPL\n",
       "2015-01-06  106.540  107.43  104.6300  106.26  65797116  AAPL\n",
       "2015-01-07  107.200  108.20  106.6950  107.75  40105934  AAPL\n",
       "2015-01-08  109.230  112.15  108.7000  111.89  59364547  AAPL\n",
       "...             ...     ...       ...     ...       ...   ...\n",
       "2024-06-04  194.635  195.32  193.0342  194.35  47471445  AAPL\n",
       "2024-06-05  195.400  196.90  194.8700  195.87  54156785  AAPL\n",
       "2024-06-06  195.685  196.50  194.1700  194.48  41181753  AAPL\n",
       "2024-06-07  194.650  196.94  194.1400  196.89  53103912  AAPL\n",
       "2024-06-10  196.900  197.30  192.1500  193.12  97262077  AAPL\n",
       "\n",
       "[2375 rows x 6 columns]"
      ]
     },
     "execution_count": 37,
     "metadata": {},
     "output_type": "execute_result"
    }
   ],
   "source": [
    "df_apple"
   ]
  },
  {
   "cell_type": "markdown",
   "metadata": {
    "pycharm": {
     "name": "#%% md\n"
    }
   },
   "source": [
    "### Step 6. Repeat the two previous steps for a few other stocks, always creating a new dataframe: Tesla, IBM and Microsoft. (Ticker symbols TSLA, IBM and MSFT.)"
   ]
  },
  {
   "cell_type": "code",
   "execution_count": 38,
   "metadata": {},
   "outputs": [],
   "source": [
    "import certifi"
   ]
  },
  {
   "cell_type": "code",
   "execution_count": 39,
   "metadata": {},
   "outputs": [],
   "source": [
    "import pandas_datareader.data as web\n",
    "import datetime\n",
    "import certifi\n",
    "import requests"
   ]
  },
  {
   "cell_type": "code",
   "execution_count": 40,
   "metadata": {
    "pycharm": {
     "name": "#%%\n"
    }
   },
   "outputs": [
    {
     "name": "stdout",
     "output_type": "stream",
     "text": [
      "               open    high       low   close    volume stock\n",
      "2015-01-02  111.390  111.44  107.3500  109.33  53204626  AAPL\n",
      "2015-01-05  108.290  108.65  105.4100  106.25  64285491  AAPL\n",
      "2015-01-06  106.540  107.43  104.6300  106.26  65797116  AAPL\n",
      "2015-01-07  107.200  108.20  106.6950  107.75  40105934  AAPL\n",
      "2015-01-08  109.230  112.15  108.7000  111.89  59364547  AAPL\n",
      "...             ...     ...       ...     ...       ...   ...\n",
      "2024-06-04  194.635  195.32  193.0342  194.35  47471445  AAPL\n",
      "2024-06-05  195.400  196.90  194.8700  195.87  54156785  AAPL\n",
      "2024-06-06  195.685  196.50  194.1700  194.48  41181753  AAPL\n",
      "2024-06-07  194.650  196.94  194.1400  196.89  53103912  AAPL\n",
      "2024-06-10  196.900  197.30  192.1500  193.12  97262077  AAPL\n",
      "\n",
      "[2375 rows x 6 columns]\n",
      "               open      high       low    close    volume stock\n",
      "2015-01-02  222.870  223.2500  213.2600  219.310   4764443  TSLA\n",
      "2015-01-05  214.550  216.5000  207.1626  210.090   5368477  TSLA\n",
      "2015-01-06  210.060  214.2000  204.2100  211.280   6261936  TSLA\n",
      "2015-01-07  213.350  214.7800  209.7800  210.950   2968390  TSLA\n",
      "2015-01-08  212.810  213.7999  210.0100  210.615   3442509  TSLA\n",
      "...             ...       ...       ...      ...       ...   ...\n",
      "2024-06-04  174.775  177.7550  174.0000  174.770  60056340  TSLA\n",
      "2024-06-05  175.350  176.1500  172.1300  175.000  57953756  TSLA\n",
      "2024-06-06  174.600  179.7300  172.7300  177.940  69887024  TSLA\n",
      "2024-06-07  176.130  179.3500  175.5800  177.480  56244932  TSLA\n",
      "2024-06-10  176.060  178.5700  173.1700  173.790  50869682  TSLA\n",
      "\n",
      "[2375 rows x 6 columns]\n",
      "              open     high     low   close   volume stock\n",
      "2015-01-02  161.31  163.310  161.00  162.06  5525341   IBM\n",
      "2015-01-05  161.27  161.270  159.19  159.51  4880389   IBM\n",
      "2015-01-06  159.67  159.960  155.17  156.07  6145670   IBM\n",
      "2015-01-07  157.20  157.200  154.03  155.05  4701015   IBM\n",
      "2015-01-08  156.24  159.044  155.55  158.42  4240585   IBM\n",
      "...            ...      ...     ...     ...      ...   ...\n",
      "2024-06-04  164.60  166.400  163.88  165.81  2594203   IBM\n",
      "2024-06-05  166.41  167.790  165.78  167.38  3049377   IBM\n",
      "2024-06-06  167.38  168.440  166.80  168.20  2207263   IBM\n",
      "2024-06-07  168.18  171.305  168.06  170.01  3475495   IBM\n",
      "2024-06-10  169.55  170.760  168.88  170.38  3444684   IBM\n",
      "\n",
      "[2375 rows x 6 columns]\n",
      "              open      high      low    close    volume stock\n",
      "2015-01-02   46.66   47.4200   46.540   46.760  27913852  MSFT\n",
      "2015-01-05   46.37   46.7300   46.250   46.325  39673865  MSFT\n",
      "2015-01-06   46.38   46.7490   45.540   45.650  36447854  MSFT\n",
      "2015-01-07   45.98   46.4600   45.490   46.230  29114061  MSFT\n",
      "2015-01-08   46.75   47.7499   46.720   47.590  29645202  MSFT\n",
      "...            ...       ...      ...      ...       ...   ...\n",
      "2024-06-04  412.43  416.4400  409.675  416.070  14348917  MSFT\n",
      "2024-06-05  417.81  424.0800  416.300  424.010  16988038  MSFT\n",
      "2024-06-06  424.01  425.3100  420.580  424.520  14861251  MSFT\n",
      "2024-06-07  426.20  426.2800  423.000  423.850  13621650  MSFT\n",
      "2024-06-10  424.70  428.0800  423.890  427.870  14003034  MSFT\n",
      "\n",
      "[2375 rows x 6 columns]\n"
     ]
    }
   ],
   "source": [
    "\n",
    "\n",
    "def get_stock_data(ticker, start, end, api_key):\n",
    "    session = requests.Session()\n",
    "    session.verify = certifi.where()\n",
    "    df = web.DataReader(ticker, 'av-daily', start=start, end=end, api_key=api_key, session=session)\n",
    "    df['stock'] = ticker\n",
    "    return df\n",
    "\n",
    "\n",
    "api_key = '789B1EF7B85PGMEY'\n",
    "\n",
    "\n",
    "df_apple = get_stock_data('AAPL', start, end, api_key)\n",
    "print(df_apple)\n",
    "\n",
    "\n",
    "df_tesla = get_stock_data('TSLA', start, end, api_key)\n",
    "print(df_tesla)\n",
    "\n",
    "\n",
    "df_ibm = get_stock_data('IBM', start, end, api_key)\n",
    "print(df_ibm)\n",
    "\n",
    "\n",
    "df_msft = get_stock_data('MSFT', start, end, api_key)\n",
    "print(df_msft)\n"
   ]
  },
  {
   "cell_type": "markdown",
   "metadata": {
    "pycharm": {
     "name": "#%% md\n"
    }
   },
   "source": [
    "### Step 7. Combine the four separate dataFrames into one combined dataFrame df that holds the information for all four stocks"
   ]
  },
  {
   "cell_type": "code",
   "execution_count": 41,
   "metadata": {
    "pycharm": {
     "name": "#%%\n"
    }
   },
   "outputs": [],
   "source": [
    "df_combined = pd.concat([df_apple, df_tesla, df_ibm, df_msft])\n"
   ]
  },
  {
   "cell_type": "code",
   "execution_count": 42,
   "metadata": {},
   "outputs": [
    {
     "data": {
      "text/html": [
       "<div>\n",
       "<style scoped>\n",
       "    .dataframe tbody tr th:only-of-type {\n",
       "        vertical-align: middle;\n",
       "    }\n",
       "\n",
       "    .dataframe tbody tr th {\n",
       "        vertical-align: top;\n",
       "    }\n",
       "\n",
       "    .dataframe thead th {\n",
       "        text-align: right;\n",
       "    }\n",
       "</style>\n",
       "<table border=\"1\" class=\"dataframe\">\n",
       "  <thead>\n",
       "    <tr style=\"text-align: right;\">\n",
       "      <th></th>\n",
       "      <th>open</th>\n",
       "      <th>high</th>\n",
       "      <th>low</th>\n",
       "      <th>close</th>\n",
       "      <th>volume</th>\n",
       "      <th>stock</th>\n",
       "    </tr>\n",
       "  </thead>\n",
       "  <tbody>\n",
       "    <tr>\n",
       "      <th>2015-01-02</th>\n",
       "      <td>111.39</td>\n",
       "      <td>111.44</td>\n",
       "      <td>107.350</td>\n",
       "      <td>109.33</td>\n",
       "      <td>53204626</td>\n",
       "      <td>AAPL</td>\n",
       "    </tr>\n",
       "    <tr>\n",
       "      <th>2015-01-05</th>\n",
       "      <td>108.29</td>\n",
       "      <td>108.65</td>\n",
       "      <td>105.410</td>\n",
       "      <td>106.25</td>\n",
       "      <td>64285491</td>\n",
       "      <td>AAPL</td>\n",
       "    </tr>\n",
       "    <tr>\n",
       "      <th>2015-01-06</th>\n",
       "      <td>106.54</td>\n",
       "      <td>107.43</td>\n",
       "      <td>104.630</td>\n",
       "      <td>106.26</td>\n",
       "      <td>65797116</td>\n",
       "      <td>AAPL</td>\n",
       "    </tr>\n",
       "    <tr>\n",
       "      <th>2015-01-07</th>\n",
       "      <td>107.20</td>\n",
       "      <td>108.20</td>\n",
       "      <td>106.695</td>\n",
       "      <td>107.75</td>\n",
       "      <td>40105934</td>\n",
       "      <td>AAPL</td>\n",
       "    </tr>\n",
       "    <tr>\n",
       "      <th>2015-01-08</th>\n",
       "      <td>109.23</td>\n",
       "      <td>112.15</td>\n",
       "      <td>108.700</td>\n",
       "      <td>111.89</td>\n",
       "      <td>59364547</td>\n",
       "      <td>AAPL</td>\n",
       "    </tr>\n",
       "    <tr>\n",
       "      <th>...</th>\n",
       "      <td>...</td>\n",
       "      <td>...</td>\n",
       "      <td>...</td>\n",
       "      <td>...</td>\n",
       "      <td>...</td>\n",
       "      <td>...</td>\n",
       "    </tr>\n",
       "    <tr>\n",
       "      <th>2024-06-04</th>\n",
       "      <td>412.43</td>\n",
       "      <td>416.44</td>\n",
       "      <td>409.675</td>\n",
       "      <td>416.07</td>\n",
       "      <td>14348917</td>\n",
       "      <td>MSFT</td>\n",
       "    </tr>\n",
       "    <tr>\n",
       "      <th>2024-06-05</th>\n",
       "      <td>417.81</td>\n",
       "      <td>424.08</td>\n",
       "      <td>416.300</td>\n",
       "      <td>424.01</td>\n",
       "      <td>16988038</td>\n",
       "      <td>MSFT</td>\n",
       "    </tr>\n",
       "    <tr>\n",
       "      <th>2024-06-06</th>\n",
       "      <td>424.01</td>\n",
       "      <td>425.31</td>\n",
       "      <td>420.580</td>\n",
       "      <td>424.52</td>\n",
       "      <td>14861251</td>\n",
       "      <td>MSFT</td>\n",
       "    </tr>\n",
       "    <tr>\n",
       "      <th>2024-06-07</th>\n",
       "      <td>426.20</td>\n",
       "      <td>426.28</td>\n",
       "      <td>423.000</td>\n",
       "      <td>423.85</td>\n",
       "      <td>13621650</td>\n",
       "      <td>MSFT</td>\n",
       "    </tr>\n",
       "    <tr>\n",
       "      <th>2024-06-10</th>\n",
       "      <td>424.70</td>\n",
       "      <td>428.08</td>\n",
       "      <td>423.890</td>\n",
       "      <td>427.87</td>\n",
       "      <td>14003034</td>\n",
       "      <td>MSFT</td>\n",
       "    </tr>\n",
       "  </tbody>\n",
       "</table>\n",
       "<p>9500 rows × 6 columns</p>\n",
       "</div>"
      ],
      "text/plain": [
       "              open    high      low   close    volume stock\n",
       "2015-01-02  111.39  111.44  107.350  109.33  53204626  AAPL\n",
       "2015-01-05  108.29  108.65  105.410  106.25  64285491  AAPL\n",
       "2015-01-06  106.54  107.43  104.630  106.26  65797116  AAPL\n",
       "2015-01-07  107.20  108.20  106.695  107.75  40105934  AAPL\n",
       "2015-01-08  109.23  112.15  108.700  111.89  59364547  AAPL\n",
       "...            ...     ...      ...     ...       ...   ...\n",
       "2024-06-04  412.43  416.44  409.675  416.07  14348917  MSFT\n",
       "2024-06-05  417.81  424.08  416.300  424.01  16988038  MSFT\n",
       "2024-06-06  424.01  425.31  420.580  424.52  14861251  MSFT\n",
       "2024-06-07  426.20  426.28  423.000  423.85  13621650  MSFT\n",
       "2024-06-10  424.70  428.08  423.890  427.87  14003034  MSFT\n",
       "\n",
       "[9500 rows x 6 columns]"
      ]
     },
     "execution_count": 42,
     "metadata": {},
     "output_type": "execute_result"
    }
   ],
   "source": [
    "df_combined"
   ]
  },
  {
   "cell_type": "markdown",
   "metadata": {
    "pycharm": {
     "name": "#%% md\n"
    }
   },
   "source": [
    "### Step 8. Shift the stock column into the index (making it a multi-level index consisting of the ticker symbol and the date)."
   ]
  },
  {
   "cell_type": "code",
   "execution_count": 43,
   "metadata": {
    "pycharm": {
     "name": "#%%\n"
    }
   },
   "outputs": [],
   "source": [
    "df_combined = df_combined.set_index(['stock', df_combined.index])\n",
    "df_combined.index.names = ['Ticker', 'Date']\n",
    "\n",
    "\n"
   ]
  },
  {
   "cell_type": "code",
   "execution_count": 44,
   "metadata": {},
   "outputs": [
    {
     "data": {
      "text/html": [
       "<div>\n",
       "<style scoped>\n",
       "    .dataframe tbody tr th:only-of-type {\n",
       "        vertical-align: middle;\n",
       "    }\n",
       "\n",
       "    .dataframe tbody tr th {\n",
       "        vertical-align: top;\n",
       "    }\n",
       "\n",
       "    .dataframe thead th {\n",
       "        text-align: right;\n",
       "    }\n",
       "</style>\n",
       "<table border=\"1\" class=\"dataframe\">\n",
       "  <thead>\n",
       "    <tr style=\"text-align: right;\">\n",
       "      <th></th>\n",
       "      <th></th>\n",
       "      <th>open</th>\n",
       "      <th>high</th>\n",
       "      <th>low</th>\n",
       "      <th>close</th>\n",
       "      <th>volume</th>\n",
       "    </tr>\n",
       "    <tr>\n",
       "      <th>Ticker</th>\n",
       "      <th>Date</th>\n",
       "      <th></th>\n",
       "      <th></th>\n",
       "      <th></th>\n",
       "      <th></th>\n",
       "      <th></th>\n",
       "    </tr>\n",
       "  </thead>\n",
       "  <tbody>\n",
       "    <tr>\n",
       "      <th rowspan=\"5\" valign=\"top\">AAPL</th>\n",
       "      <th>2015-01-02</th>\n",
       "      <td>111.39</td>\n",
       "      <td>111.44</td>\n",
       "      <td>107.350</td>\n",
       "      <td>109.33</td>\n",
       "      <td>53204626</td>\n",
       "    </tr>\n",
       "    <tr>\n",
       "      <th>2015-01-05</th>\n",
       "      <td>108.29</td>\n",
       "      <td>108.65</td>\n",
       "      <td>105.410</td>\n",
       "      <td>106.25</td>\n",
       "      <td>64285491</td>\n",
       "    </tr>\n",
       "    <tr>\n",
       "      <th>2015-01-06</th>\n",
       "      <td>106.54</td>\n",
       "      <td>107.43</td>\n",
       "      <td>104.630</td>\n",
       "      <td>106.26</td>\n",
       "      <td>65797116</td>\n",
       "    </tr>\n",
       "    <tr>\n",
       "      <th>2015-01-07</th>\n",
       "      <td>107.20</td>\n",
       "      <td>108.20</td>\n",
       "      <td>106.695</td>\n",
       "      <td>107.75</td>\n",
       "      <td>40105934</td>\n",
       "    </tr>\n",
       "    <tr>\n",
       "      <th>2015-01-08</th>\n",
       "      <td>109.23</td>\n",
       "      <td>112.15</td>\n",
       "      <td>108.700</td>\n",
       "      <td>111.89</td>\n",
       "      <td>59364547</td>\n",
       "    </tr>\n",
       "    <tr>\n",
       "      <th>...</th>\n",
       "      <th>...</th>\n",
       "      <td>...</td>\n",
       "      <td>...</td>\n",
       "      <td>...</td>\n",
       "      <td>...</td>\n",
       "      <td>...</td>\n",
       "    </tr>\n",
       "    <tr>\n",
       "      <th rowspan=\"5\" valign=\"top\">MSFT</th>\n",
       "      <th>2024-06-04</th>\n",
       "      <td>412.43</td>\n",
       "      <td>416.44</td>\n",
       "      <td>409.675</td>\n",
       "      <td>416.07</td>\n",
       "      <td>14348917</td>\n",
       "    </tr>\n",
       "    <tr>\n",
       "      <th>2024-06-05</th>\n",
       "      <td>417.81</td>\n",
       "      <td>424.08</td>\n",
       "      <td>416.300</td>\n",
       "      <td>424.01</td>\n",
       "      <td>16988038</td>\n",
       "    </tr>\n",
       "    <tr>\n",
       "      <th>2024-06-06</th>\n",
       "      <td>424.01</td>\n",
       "      <td>425.31</td>\n",
       "      <td>420.580</td>\n",
       "      <td>424.52</td>\n",
       "      <td>14861251</td>\n",
       "    </tr>\n",
       "    <tr>\n",
       "      <th>2024-06-07</th>\n",
       "      <td>426.20</td>\n",
       "      <td>426.28</td>\n",
       "      <td>423.000</td>\n",
       "      <td>423.85</td>\n",
       "      <td>13621650</td>\n",
       "    </tr>\n",
       "    <tr>\n",
       "      <th>2024-06-10</th>\n",
       "      <td>424.70</td>\n",
       "      <td>428.08</td>\n",
       "      <td>423.890</td>\n",
       "      <td>427.87</td>\n",
       "      <td>14003034</td>\n",
       "    </tr>\n",
       "  </tbody>\n",
       "</table>\n",
       "<p>9500 rows × 5 columns</p>\n",
       "</div>"
      ],
      "text/plain": [
       "                     open    high      low   close    volume\n",
       "Ticker Date                                                 \n",
       "AAPL   2015-01-02  111.39  111.44  107.350  109.33  53204626\n",
       "       2015-01-05  108.29  108.65  105.410  106.25  64285491\n",
       "       2015-01-06  106.54  107.43  104.630  106.26  65797116\n",
       "       2015-01-07  107.20  108.20  106.695  107.75  40105934\n",
       "       2015-01-08  109.23  112.15  108.700  111.89  59364547\n",
       "...                   ...     ...      ...     ...       ...\n",
       "MSFT   2024-06-04  412.43  416.44  409.675  416.07  14348917\n",
       "       2024-06-05  417.81  424.08  416.300  424.01  16988038\n",
       "       2024-06-06  424.01  425.31  420.580  424.52  14861251\n",
       "       2024-06-07  426.20  426.28  423.000  423.85  13621650\n",
       "       2024-06-10  424.70  428.08  423.890  427.87  14003034\n",
       "\n",
       "[9500 rows x 5 columns]"
      ]
     },
     "execution_count": 44,
     "metadata": {},
     "output_type": "execute_result"
    }
   ],
   "source": [
    "df_combined"
   ]
  },
  {
   "cell_type": "markdown",
   "metadata": {
    "pycharm": {
     "name": "#%% md\n"
    }
   },
   "source": [
    "### Step 7. Create a dataFrame called vol, with the volume values."
   ]
  },
  {
   "cell_type": "code",
   "execution_count": 45,
   "metadata": {
    "pycharm": {
     "name": "#%%\n"
    }
   },
   "outputs": [],
   "source": [
    "vol = df_combined[['volume']]"
   ]
  },
  {
   "cell_type": "code",
   "execution_count": 46,
   "metadata": {},
   "outputs": [
    {
     "data": {
      "text/html": [
       "<div>\n",
       "<style scoped>\n",
       "    .dataframe tbody tr th:only-of-type {\n",
       "        vertical-align: middle;\n",
       "    }\n",
       "\n",
       "    .dataframe tbody tr th {\n",
       "        vertical-align: top;\n",
       "    }\n",
       "\n",
       "    .dataframe thead th {\n",
       "        text-align: right;\n",
       "    }\n",
       "</style>\n",
       "<table border=\"1\" class=\"dataframe\">\n",
       "  <thead>\n",
       "    <tr style=\"text-align: right;\">\n",
       "      <th></th>\n",
       "      <th></th>\n",
       "      <th>volume</th>\n",
       "    </tr>\n",
       "    <tr>\n",
       "      <th>Ticker</th>\n",
       "      <th>Date</th>\n",
       "      <th></th>\n",
       "    </tr>\n",
       "  </thead>\n",
       "  <tbody>\n",
       "    <tr>\n",
       "      <th rowspan=\"5\" valign=\"top\">AAPL</th>\n",
       "      <th>2015-01-02</th>\n",
       "      <td>53204626</td>\n",
       "    </tr>\n",
       "    <tr>\n",
       "      <th>2015-01-05</th>\n",
       "      <td>64285491</td>\n",
       "    </tr>\n",
       "    <tr>\n",
       "      <th>2015-01-06</th>\n",
       "      <td>65797116</td>\n",
       "    </tr>\n",
       "    <tr>\n",
       "      <th>2015-01-07</th>\n",
       "      <td>40105934</td>\n",
       "    </tr>\n",
       "    <tr>\n",
       "      <th>2015-01-08</th>\n",
       "      <td>59364547</td>\n",
       "    </tr>\n",
       "    <tr>\n",
       "      <th>...</th>\n",
       "      <th>...</th>\n",
       "      <td>...</td>\n",
       "    </tr>\n",
       "    <tr>\n",
       "      <th rowspan=\"5\" valign=\"top\">MSFT</th>\n",
       "      <th>2024-06-04</th>\n",
       "      <td>14348917</td>\n",
       "    </tr>\n",
       "    <tr>\n",
       "      <th>2024-06-05</th>\n",
       "      <td>16988038</td>\n",
       "    </tr>\n",
       "    <tr>\n",
       "      <th>2024-06-06</th>\n",
       "      <td>14861251</td>\n",
       "    </tr>\n",
       "    <tr>\n",
       "      <th>2024-06-07</th>\n",
       "      <td>13621650</td>\n",
       "    </tr>\n",
       "    <tr>\n",
       "      <th>2024-06-10</th>\n",
       "      <td>14003034</td>\n",
       "    </tr>\n",
       "  </tbody>\n",
       "</table>\n",
       "<p>9500 rows × 1 columns</p>\n",
       "</div>"
      ],
      "text/plain": [
       "                     volume\n",
       "Ticker Date                \n",
       "AAPL   2015-01-02  53204626\n",
       "       2015-01-05  64285491\n",
       "       2015-01-06  65797116\n",
       "       2015-01-07  40105934\n",
       "       2015-01-08  59364547\n",
       "...                     ...\n",
       "MSFT   2024-06-04  14348917\n",
       "       2024-06-05  16988038\n",
       "       2024-06-06  14861251\n",
       "       2024-06-07  13621650\n",
       "       2024-06-10  14003034\n",
       "\n",
       "[9500 rows x 1 columns]"
      ]
     },
     "execution_count": 46,
     "metadata": {},
     "output_type": "execute_result"
    }
   ],
   "source": [
    "vol"
   ]
  },
  {
   "cell_type": "code",
   "execution_count": null,
   "metadata": {
    "pycharm": {
     "name": "#%%\n"
    }
   },
   "outputs": [],
   "source": []
  }
 ],
 "metadata": {
  "kernelspec": {
   "display_name": "Python 3",
   "language": "python",
   "name": "python3"
  },
  "language_info": {
   "codemirror_mode": {
    "name": "ipython",
    "version": 3
   },
   "file_extension": ".py",
   "mimetype": "text/x-python",
   "name": "python",
   "nbconvert_exporter": "python",
   "pygments_lexer": "ipython3",
   "version": "3.11.7"
  }
 },
 "nbformat": 4,
 "nbformat_minor": 1
}
