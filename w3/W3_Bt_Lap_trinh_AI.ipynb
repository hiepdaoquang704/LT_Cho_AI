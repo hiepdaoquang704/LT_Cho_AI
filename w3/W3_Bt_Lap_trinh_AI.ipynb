{
  "nbformat": 4,
  "nbformat_minor": 0,
  "metadata": {
    "colab": {
      "provenance": []
    },
    "kernelspec": {
      "name": "python3",
      "display_name": "Python 3"
    },
    "language_info": {
      "name": "python"
    }
  },
  "cells": [
    {
      "cell_type": "markdown",
      "source": [
        "Dict, module, package"
      ],
      "metadata": {
        "id": "dTsBepSZN6eh"
      }
    },
    {
      "cell_type": "markdown",
      "source": [
        "Bai 4"
      ],
      "metadata": {
        "id": "JK5dJo0CME7y"
      }
    },
    {
      "cell_type": "code",
      "source": [
        "S = 'truong dai hoc phenikaa'\n",
        "S=[i for i in S]\n",
        "print(S)\n"
      ],
      "metadata": {
        "colab": {
          "base_uri": "https://localhost:8080/"
        },
        "id": "au8ru_a9MD0S",
        "outputId": "faca6f8b-ed90-4de5-9568-2650c01e9151"
      },
      "execution_count": null,
      "outputs": [
        {
          "output_type": "stream",
          "name": "stdout",
          "text": [
            "['t', 'r', 'u', 'o', 'n', 'g', ' ', 'd', 'a', 'i', ' ', 'h', 'o', 'c', ' ', 'p', 'h', 'e', 'n', 'i', 'k', 'a', 'a']\n"
          ]
        }
      ]
    },
    {
      "cell_type": "code",
      "source": [
        "from collections import Counter\n",
        "char_dict=dict(Counter(S))"
      ],
      "metadata": {
        "id": "ASvWF90BMyRp"
      },
      "execution_count": null,
      "outputs": []
    },
    {
      "cell_type": "code",
      "source": [
        "print(char_dict)"
      ],
      "metadata": {
        "colab": {
          "base_uri": "https://localhost:8080/"
        },
        "id": "69403QM5Npk4",
        "outputId": "3adf743d-f708-4d87-b2b7-e9d1f4c85d77"
      },
      "execution_count": null,
      "outputs": [
        {
          "output_type": "stream",
          "name": "stdout",
          "text": [
            "{'t': 1, 'r': 1, 'u': 1, 'o': 2, 'n': 2, 'g': 1, ' ': 3, 'd': 1, 'a': 3, 'i': 2, 'h': 2, 'c': 1, 'p': 1, 'e': 1, 'k': 1}\n"
          ]
        }
      ]
    },
    {
      "cell_type": "markdown",
      "source": [
        "Bai 5"
      ],
      "metadata": {
        "id": "UoKc81sV6I0W"
      }
    },
    {
      "cell_type": "code",
      "execution_count": null,
      "metadata": {
        "id": "hyk_5FIx6A60"
      },
      "outputs": [],
      "source": [
        "prices={'banana':4,'apple':2,'orange':1.5,'pear':3}\n",
        "stock={'banana':6,'orange':32,'pear':15}\n"
      ]
    },
    {
      "cell_type": "code",
      "source": [
        "total_prices={}\n",
        "for i in prices:\n",
        "  try :\n",
        "     total_prices[i]=prices[i]*stock[i]\n",
        "  except KeyError:\n",
        "    total_prices[i]=0"
      ],
      "metadata": {
        "id": "I-WZ1AMJ6njo"
      },
      "execution_count": null,
      "outputs": []
    },
    {
      "cell_type": "code",
      "source": [
        "print(total_prices)"
      ],
      "metadata": {
        "colab": {
          "base_uri": "https://localhost:8080/"
        },
        "id": "-BZ3Y8U068Di",
        "outputId": "9ba789c5-408b-41d5-aaed-8f8cac6ab4a0"
      },
      "execution_count": null,
      "outputs": [
        {
          "output_type": "stream",
          "name": "stdout",
          "text": [
            "{'banana': 24, 'apple': 0, 'orange': 48.0, 'pear': 45}\n"
          ]
        }
      ]
    },
    {
      "cell_type": "code",
      "source": [
        "sorted_dict = dict(sorted(total_prices.items(), key=lambda item: item[1],reverse=True))\n",
        "print(sorted_dict)\n"
      ],
      "metadata": {
        "id": "LrVkYI5U86cY",
        "colab": {
          "base_uri": "https://localhost:8080/"
        },
        "outputId": "7f547f80-4f96-465d-c63d-d21515aa3de4"
      },
      "execution_count": null,
      "outputs": [
        {
          "output_type": "stream",
          "name": "stdout",
          "text": [
            "{'orange': 48.0, 'pear': 45, 'banana': 24, 'apple': 0}\n"
          ]
        }
      ]
    },
    {
      "cell_type": "code",
      "source": [
        "for key in (sorted_dict):\n",
        "  print(key,sorted_dict[key])"
      ],
      "metadata": {
        "id": "y9BrKWP-9cI4",
        "colab": {
          "base_uri": "https://localhost:8080/"
        },
        "outputId": "975b8394-7a7e-45c2-8d06-8da3d8a2504e"
      },
      "execution_count": null,
      "outputs": [
        {
          "output_type": "stream",
          "name": "stdout",
          "text": [
            "orange 48.0\n",
            "pear 45\n",
            "banana 24\n",
            "apple 0\n"
          ]
        }
      ]
    }
  ]
}